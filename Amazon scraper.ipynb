{
 "cells": [
  {
   "cell_type": "code",
   "execution_count": 2,
   "metadata": {},
   "outputs": [],
   "source": [
    "import requests\n",
    "from bs4 import BeautifulSoup\n",
    "import pandas as pd\n",
    "from time import sleep"
   ]
  },
  {
   "cell_type": "code",
   "execution_count": 3,
   "metadata": {},
   "outputs": [],
   "source": [
    "headers = {\n",
    "    'User-Agent': 'Mozilla/5.0 (Windows NT 10.0; Win64; x64) AppleWebKit/537.36 (KHTML, like Gecko) Chrome/104.0.0.0 Safari/537.36',\n",
    "    'Accept-Language': 'en-US, en;q=0.5'\n",
    "}"
   ]
  },
  {
   "cell_type": "code",
   "execution_count": 4,
   "metadata": {},
   "outputs": [
    {
     "name": "stdout",
     "output_type": "stream",
     "text": [
      "Processing https://www.amazon.com/s?k=winter+jacket&page=2....\n"
     ]
    },
    {
     "name": "stderr",
     "output_type": "stream",
     "text": [
      "C:\\Users\\hzw\\Anaconda3\\lib\\site-packages\\urllib3\\connectionpool.py:981: InsecureRequestWarning: Unverified HTTPS request is being made to host 'www.amazon.com'. Adding certificate verification is strongly advised. See: https://urllib3.readthedocs.io/en/latest/advanced-usage.html#ssl-warnings\n",
      "  warnings.warn(\n"
     ]
    },
    {
     "name": "stdout",
     "output_type": "stream",
     "text": [
      "Processing https://www.amazon.com/s?k=winter+jacket&page=3....\n"
     ]
    },
    {
     "name": "stderr",
     "output_type": "stream",
     "text": [
      "C:\\Users\\hzw\\Anaconda3\\lib\\site-packages\\urllib3\\connectionpool.py:981: InsecureRequestWarning: Unverified HTTPS request is being made to host 'www.amazon.com'. Adding certificate verification is strongly advised. See: https://urllib3.readthedocs.io/en/latest/advanced-usage.html#ssl-warnings\n",
      "  warnings.warn(\n"
     ]
    },
    {
     "name": "stdout",
     "output_type": "stream",
     "text": [
      "Processing https://www.amazon.com/s?k=winter+jacket&page=4....\n"
     ]
    },
    {
     "name": "stderr",
     "output_type": "stream",
     "text": [
      "C:\\Users\\hzw\\Anaconda3\\lib\\site-packages\\urllib3\\connectionpool.py:981: InsecureRequestWarning: Unverified HTTPS request is being made to host 'www.amazon.com'. Adding certificate verification is strongly advised. See: https://urllib3.readthedocs.io/en/latest/advanced-usage.html#ssl-warnings\n",
      "  warnings.warn(\n"
     ]
    },
    {
     "name": "stdout",
     "output_type": "stream",
     "text": [
      "Processing https://www.amazon.com/s?k=winter+jacket&page=5....\n"
     ]
    },
    {
     "name": "stderr",
     "output_type": "stream",
     "text": [
      "C:\\Users\\hzw\\Anaconda3\\lib\\site-packages\\urllib3\\connectionpool.py:981: InsecureRequestWarning: Unverified HTTPS request is being made to host 'www.amazon.com'. Adding certificate verification is strongly advised. See: https://urllib3.readthedocs.io/en/latest/advanced-usage.html#ssl-warnings\n",
      "  warnings.warn(\n"
     ]
    },
    {
     "name": "stdout",
     "output_type": "stream",
     "text": [
      "Processing https://www.amazon.com/s?k=winter+jacket&page=6....\n"
     ]
    },
    {
     "name": "stderr",
     "output_type": "stream",
     "text": [
      "C:\\Users\\hzw\\Anaconda3\\lib\\site-packages\\urllib3\\connectionpool.py:981: InsecureRequestWarning: Unverified HTTPS request is being made to host 'www.amazon.com'. Adding certificate verification is strongly advised. See: https://urllib3.readthedocs.io/en/latest/advanced-usage.html#ssl-warnings\n",
      "  warnings.warn(\n"
     ]
    },
    {
     "name": "stdout",
     "output_type": "stream",
     "text": [
      "Processing https://www.amazon.com/s?k=winter+jacket&page=7....\n"
     ]
    },
    {
     "name": "stderr",
     "output_type": "stream",
     "text": [
      "C:\\Users\\hzw\\Anaconda3\\lib\\site-packages\\urllib3\\connectionpool.py:981: InsecureRequestWarning: Unverified HTTPS request is being made to host 'www.amazon.com'. Adding certificate verification is strongly advised. See: https://urllib3.readthedocs.io/en/latest/advanced-usage.html#ssl-warnings\n",
      "  warnings.warn(\n"
     ]
    },
    {
     "name": "stdout",
     "output_type": "stream",
     "text": [
      "Processing https://www.amazon.com/s?k=winter+jacket&page=8....\n"
     ]
    },
    {
     "name": "stderr",
     "output_type": "stream",
     "text": [
      "C:\\Users\\hzw\\Anaconda3\\lib\\site-packages\\urllib3\\connectionpool.py:981: InsecureRequestWarning: Unverified HTTPS request is being made to host 'www.amazon.com'. Adding certificate verification is strongly advised. See: https://urllib3.readthedocs.io/en/latest/advanced-usage.html#ssl-warnings\n",
      "  warnings.warn(\n"
     ]
    },
    {
     "name": "stdout",
     "output_type": "stream",
     "text": [
      "Processing https://www.amazon.com/s?k=winter+jacket&page=9....\n"
     ]
    },
    {
     "name": "stderr",
     "output_type": "stream",
     "text": [
      "C:\\Users\\hzw\\Anaconda3\\lib\\site-packages\\urllib3\\connectionpool.py:981: InsecureRequestWarning: Unverified HTTPS request is being made to host 'www.amazon.com'. Adding certificate verification is strongly advised. See: https://urllib3.readthedocs.io/en/latest/advanced-usage.html#ssl-warnings\n",
      "  warnings.warn(\n"
     ]
    },
    {
     "name": "stdout",
     "output_type": "stream",
     "text": [
      "Processing https://www.amazon.com/s?k=winter+jacket&page=10....\n"
     ]
    },
    {
     "name": "stderr",
     "output_type": "stream",
     "text": [
      "C:\\Users\\hzw\\Anaconda3\\lib\\site-packages\\urllib3\\connectionpool.py:981: InsecureRequestWarning: Unverified HTTPS request is being made to host 'www.amazon.com'. Adding certificate verification is strongly advised. See: https://urllib3.readthedocs.io/en/latest/advanced-usage.html#ssl-warnings\n",
      "  warnings.warn(\n"
     ]
    }
   ],
   "source": [
    "search_query = 'winter jacket'.replace(' ', '+')\n",
    "base_url = 'https://www.amazon.com/s?k={0}'.format(search_query)\n",
    "\n",
    "items = []\n",
    "for i in range(1, 11):\n",
    "    print('Processing {0}....'.format(base_url + '&page={0}'.format(i)))\n",
    "    if i == 1:\n",
    "        response = requests.get(base_url, headers=headers, verify=False)\n",
    "    else:\n",
    "        response = requests.get(base_url + '&page={0}'.format(i), headers=headers, verify=False)\n",
    "    soup = BeautifulSoup(response.content, 'html.parser')\n",
    "    #print(soup)\n",
    "    #data-component-type=\"s-search-result\"\n",
    "    results = soup.find_all('div', {'class': 's-result-item', 'data-component-type': 's-search-result'})\n",
    "    #print(results)\n",
    "    \n",
    "    for result in results:\n",
    "        product_name = result.h2.text\n",
    "        \n",
    "        try:\n",
    "            rating = result.find('i', {'class': 'a-icon'}).text\n",
    "            rating_count = result.find('span', {'class': 'a-size-base'}).text\n",
    "        except AttributeError:\n",
    "            continue\n",
    "        try:\n",
    "            whole_price = result.find('span', {'class': 'a-price-whole'}).text\n",
    "            fraction_price = result.find('span', {'class': 'a-price-fraction'}).text\n",
    "            price_unit = result.find('span', {'class': 'a-price-symbol'}).text\n",
    "            total_price = price_unit + ' ' + whole_price + fraction_price\n",
    "            product_url = 'https://amazon.com' + result.h2.a['href']\n",
    "            image_url = result.find('img', {'class': 's-image'})['src']\n",
    "            items.append([product_name, rating, rating_count, total_price, product_url, image_url])\n",
    "        except AttributeError:\n",
    "            continue\n",
    "#         print(rating)\n",
    "#         print(rating_count)\n",
    "#         print(total_price)\n",
    "#         print(product_url)\n",
    "         #print(image_url)\n",
    "    #break\n",
    "    #sleep(1.5)\n",
    "    \n",
    "df = pd.DataFrame(items, columns=['product', 'rating', 'rating_count', 'price', 'product_url', 'image_url'])\n",
    "df.to_csv('{0}.csv'.format(search_query, index=False))"
   ]
  },
  {
   "cell_type": "code",
   "execution_count": 9,
   "metadata": {},
   "outputs": [
    {
     "data": {
      "text/plain": [
       "60"
      ]
     },
     "execution_count": 9,
     "metadata": {},
     "output_type": "execute_result"
    }
   ],
   "source": [
    "len(results)"
   ]
  },
  {
   "cell_type": "code",
   "execution_count": null,
   "metadata": {},
   "outputs": [],
   "source": []
  }
 ],
 "metadata": {
  "kernelspec": {
   "display_name": "Python 3",
   "language": "python",
   "name": "python3"
  },
  "language_info": {
   "codemirror_mode": {
    "name": "ipython",
    "version": 3
   },
   "file_extension": ".py",
   "mimetype": "text/x-python",
   "name": "python",
   "nbconvert_exporter": "python",
   "pygments_lexer": "ipython3",
   "version": "3.8.5"
  }
 },
 "nbformat": 4,
 "nbformat_minor": 4
}
